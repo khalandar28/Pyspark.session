{
 "cells": [
  {
   "cell_type": "code",
   "execution_count": 1,
   "id": "725a0310-8f01-4ede-966a-265abf864da1",
   "metadata": {
    "tags": []
   },
   "outputs": [
    {
     "data": {
      "text/html": [
       "\n",
       "            <div>\n",
       "                <p><b>SparkSession - hive</b></p>\n",
       "                \n",
       "        <div>\n",
       "            <p><b>SparkContext</b></p>\n",
       "\n",
       "            <p><a href=\"http://8a95fd7f28d1:4040\">Spark UI</a></p>\n",
       "\n",
       "            <dl>\n",
       "              <dt>Version</dt>\n",
       "                <dd><code>v3.3.0</code></dd>\n",
       "              <dt>Master</dt>\n",
       "                <dd><code>local[*]</code></dd>\n",
       "              <dt>AppName</dt>\n",
       "                <dd><code>Spark SQL</code></dd>\n",
       "            </dl>\n",
       "        </div>\n",
       "        \n",
       "            </div>\n",
       "        "
      ],
      "text/plain": [
       "<pyspark.sql.session.SparkSession at 0x7fd78dc0a650>"
      ]
     },
     "execution_count": 1,
     "metadata": {},
     "output_type": "execute_result"
    }
   ],
   "source": [
    "# Spark Session\n",
    "from pyspark.sql import SparkSession\n",
    "\n",
    "spark = (\n",
    "    SparkSession\n",
    "    .builder\n",
    "    .appName(\"Spark SQL\")\n",
    "    .master(\"local[*]\")\n",
    "    .enableHiveSupport()\n",
    "    .config(\"spark.sql.warehouse.dir\", \"/data/output/spark-warehouse\")\n",
    "    .getOrCreate()\n",
    ")\n",
    "\n",
    "spark"
   ]
  },
  {
   "cell_type": "code",
   "execution_count": 9,
   "id": "3612195d-5439-4251-9031-f9825d7b25a0",
   "metadata": {
    "tags": []
   },
   "outputs": [],
   "source": [
    "# Read Employee data\n",
    "_schema = \"first_name string, last_name string, job_title string, dob string, email string, phone string, salary double, department_id int\"\n",
    "\n",
    "emp = spark.read.format(\"csv\").schema(_schema).option(\"header\", True).load(\"/data/input/employee_records_skewed.csv\")"
   ]
  },
  {
   "cell_type": "code",
   "execution_count": 10,
   "id": "5c7976b6-ebdb-45ee-a625-7a6ff9ddd9a1",
   "metadata": {
    "tags": []
   },
   "outputs": [],
   "source": [
    "# Read DEPT CSV data\n",
    "_dept_schema = \"department_id int, department_name string, description string, city string, state string, country string\"\n",
    "\n",
    "dept = spark.read.format(\"csv\").schema(_dept_schema).option(\"header\", True).load(\"/data/input/department_data.csv\")"
   ]
  },
  {
   "cell_type": "code",
   "execution_count": 2,
   "id": "6853bf7f-371d-4e14-bd43-3d6aea2eadec",
   "metadata": {
    "tags": []
   },
   "outputs": [
    {
     "data": {
      "text/plain": [
       "'hive'"
      ]
     },
     "execution_count": 2,
     "metadata": {},
     "output_type": "execute_result"
    }
   ],
   "source": [
    "# Spark Catalog (Metadata) - in-memory/hive\n",
    "\n",
    "spark.conf.get(\"spark.sql.catalogImplementation\")"
   ]
  },
  {
   "cell_type": "code",
   "execution_count": 3,
   "id": "a1b6994a-07ef-42d3-a3f8-ea50ff2cac56",
   "metadata": {
    "tags": []
   },
   "outputs": [
    {
     "name": "stdout",
     "output_type": "stream",
     "text": [
      "+---------+\n",
      "|namespace|\n",
      "+---------+\n",
      "|  default|\n",
      "+---------+\n",
      "\n"
     ]
    }
   ],
   "source": [
    "# Show databases\n",
    "db = spark.sql(\"show databases\")\n",
    "db.show()"
   ]
  },
  {
   "cell_type": "code",
   "execution_count": 4,
   "id": "3d7960ca-d561-406d-b9ca-60dac6448b49",
   "metadata": {
    "tags": []
   },
   "outputs": [
    {
     "name": "stdout",
     "output_type": "stream",
     "text": [
      "+---------+---------+-----------+\n",
      "|namespace|tableName|isTemporary|\n",
      "+---------+---------+-----------+\n",
      "|  default|emp_final|      false|\n",
      "+---------+---------+-----------+\n",
      "\n"
     ]
    }
   ],
   "source": [
    "spark.sql(\"show tables in default\").show()"
   ]
  },
  {
   "cell_type": "code",
   "execution_count": 12,
   "id": "2fdb89b1-4cef-407c-8b8d-a557b3856378",
   "metadata": {
    "tags": []
   },
   "outputs": [],
   "source": [
    "# Register dataframes are temp views\n",
    "\n",
    "emp.createOrReplaceTempView(\"emp_view\")\n",
    "\n",
    "dept.createOrReplaceTempView(\"dept_view\")\n"
   ]
  },
  {
   "cell_type": "code",
   "execution_count": null,
   "id": "71195028-b990-47a5-9466-9ed29854f406",
   "metadata": {
    "tags": []
   },
   "outputs": [],
   "source": [
    "# Show tables/view in catalog\n",
    "\n"
   ]
  },
  {
   "cell_type": "code",
   "execution_count": 16,
   "id": "7f2a1068-0c2f-4ddf-9975-e56f78e57129",
   "metadata": {
    "tags": []
   },
   "outputs": [],
   "source": [
    "# View data from table\n",
    "\n",
    "emp_filtered = spark.sql(\"\"\"\n",
    "    select * from emp_view\n",
    "    where department_id = 1\n",
    "\"\"\")"
   ]
  },
  {
   "cell_type": "code",
   "execution_count": 17,
   "id": "9efa345c-d4d9-4ab3-98d7-c79030e2f709",
   "metadata": {
    "tags": []
   },
   "outputs": [
    {
     "name": "stdout",
     "output_type": "stream",
     "text": [
      "+-----------+----------+--------------------+----------+--------------------+--------------------+--------+-------------+\n",
      "| first_name| last_name|           job_title|       dob|               email|               phone|  salary|department_id|\n",
      "+-----------+----------+--------------------+----------+--------------------+--------------------+--------+-------------+\n",
      "|       Carl|  Peterson|         Proofreader|1984-11-23|andrew20@example.net|   241-871-9102x3835|287728.0|            1|\n",
      "|   Kristina|    Martin|       IT consultant|1964-02-23|autumn05@example.com|       (625)327-0615|563768.0|            1|\n",
      "|   Benjamin|     Lopez|Agricultural engi...|1966-01-20|  ryan46@example.org| +1-256-376-8069x339|891725.0|            1|\n",
      "|     Leslie| Rodriguez|Horticulturist, c...|1973-06-16|thomassutton@exam...|001-630-539-4136x...|875940.0|            1|\n",
      "|     Angela|    Martin|   Company secretary|1979-07-07| qholmes@example.org|001-267-831-8987x...|485302.0|            1|\n",
      "|      Julia|     Gomez|       Advice worker|1963-03-02|xjackson@example.net|        495-667-0287| 59589.0|            1|\n",
      "|     Jeremy|      Hunt|Radiation protect...|1987-12-06|moraeric@example.net|          6276248675|199026.0|            1|\n",
      "|      Alice|      Rice|Advertising art d...|1964-04-03|   amy82@example.net|          2208895255|967862.0|            1|\n",
      "|    Clinton|Cunningham|Designer, exhibit...|1984-07-22|margaret29@exampl...|   (526)879-8418x297|660617.0|            1|\n",
      "|      Susan|      Ford|Geographical info...|1985-05-06|sherrirobinson@ex...|       (734)226-1079|991902.0|            1|\n",
      "|    Gregory|   Stevens|Engineer, buildin...|1997-11-17|  sgreen@example.org|        676-481-8023|986664.0|            1|\n",
      "|    Shannon|     Bowen|Industrial/produc...|1973-05-07| gharris@example.com|   (891)559-1318x860|201522.0|            1|\n",
      "|      Dylan|  Sullivan|Television camera...|1999-06-23|michaelallison@ex...|001-757-795-1822x...|715727.0|            1|\n",
      "|Christopher|    Lozano|Database administ...|1979-03-15|thernandez@exampl...| (465)990-3733x09035|441011.0|            1|\n",
      "|    William|      Pope|            Best boy|1983-05-07|jillianmorrison@e...|        303.475.9516|632646.0|            1|\n",
      "|      Kevin|     Brown|    Engineer, mining|1965-09-26|williamroy@exampl...|+1-771-254-4086x1...| 61066.0|            1|\n",
      "|   Michaela|  Mckinney|Teacher, English ...|1997-10-04| brian65@example.net|001-384-754-4223x...|750122.0|            1|\n",
      "|     Pamela|       Lee|                Land|1974-04-28|bartonangela@exam...|001-226-781-4414x...|157355.0|            1|\n",
      "|     Robert|     Davis|Museum education ...|1965-12-31|savagesamantha@ex...|    001-487-554-6158|833494.0|            1|\n",
      "|     Jeremy|   Alvarez|        Tour manager|1998-11-04|kelleybrittany@ex...|+1-960-957-6641x9...| 84979.0|            1|\n",
      "+-----------+----------+--------------------+----------+--------------------+--------------------+--------+-------------+\n",
      "only showing top 20 rows\n",
      "\n"
     ]
    }
   ],
   "source": [
    "emp_filtered.show()"
   ]
  },
  {
   "cell_type": "code",
   "execution_count": 21,
   "id": "f2f2cd75-8dde-43c7-a23c-8a2ed93e9ee0",
   "metadata": {
    "tags": []
   },
   "outputs": [],
   "source": [
    "# Create a new column dob_year and register as temp view\n",
    "\n",
    "emp_temp = spark.sql(\"\"\"\n",
    "    select e.*, date_format(dob, 'yyyy') as dob_year from emp_view e\n",
    "\"\"\")\n"
   ]
  },
  {
   "cell_type": "code",
   "execution_count": 22,
   "id": "e9e546d0-fdb5-45b9-92ad-5204dccfd802",
   "metadata": {
    "tags": []
   },
   "outputs": [],
   "source": [
    "emp_temp.createOrReplaceTempView(\"emp_temp_view\")"
   ]
  },
  {
   "cell_type": "code",
   "execution_count": 24,
   "id": "c534c1a5-9486-4bea-a242-893e7fc380aa",
   "metadata": {
    "tags": []
   },
   "outputs": [
    {
     "name": "stdout",
     "output_type": "stream",
     "text": [
      "+----------+---------+--------------------+----------+--------------------+--------------------+--------+-------------+--------+\n",
      "|first_name|last_name|           job_title|       dob|               email|               phone|  salary|department_id|dob_year|\n",
      "+----------+---------+--------------------+----------+--------------------+--------------------+--------+-------------+--------+\n",
      "|  Samantha|    Brown|Diagnostic radiog...|1966-06-11| jwatson@example.com|       (428)806-5154|439679.0|            3|    1966|\n",
      "|    Justin|Castaneda|Human resources o...|1996-11-11|  sdavis@example.org|    001-581-642-9621| 97388.0|            4|    1996|\n",
      "|      Carl| Peterson|         Proofreader|1984-11-23|andrew20@example.net|   241-871-9102x3835|287728.0|            1|    1984|\n",
      "| Catherine|     Lane|    Location manager|1966-06-21|elizabethalexande...|   470.866.4415x0739|174151.0|            3|    1966|\n",
      "|     Aaron|  Delgado|Teacher, secondar...|1972-10-11|uwilliams@example...|   384.336.5759x4831|209013.0|            8|    1972|\n",
      "|  Michelle|     Hill|Customer service ...|1984-01-15|antoniojoseph@exa...|    368.485.0685x793|764126.0|            8|    1984|\n",
      "|  Kristina|   Martin|       IT consultant|1964-02-23|autumn05@example.com|       (625)327-0615|563768.0|            1|    1964|\n",
      "|     Carol|  Nichols|      Phytotherapist|1969-02-14|crawfordsarah@exa...|  422-490-1069x38089|156689.0|           10|    1969|\n",
      "|     Peter|     Hill|      Cytogeneticist|1964-09-23|   xholt@example.org|        935.573.8160|957436.0|            5|    1964|\n",
      "|  Benjamin|    Lopez|Agricultural engi...|1966-01-20|  ryan46@example.org| +1-256-376-8069x339|891725.0|            1|    1966|\n",
      "|     Susan|   Savage|Optician, dispensing|1996-07-27|taylorjoshua@exam...| +1-393-821-5515x816|198396.0|            6|    1996|\n",
      "|    Robert|      Cox|Occupational ther...|1993-06-27|anthony00@example...|          8008487748|907659.0|            3|    1993|\n",
      "|      Evan|    Terry|Local government ...|1982-01-03|srodriguez@exampl...|        220-913-4625|693419.0|            5|    1982|\n",
      "|    Justin| Santiago|                Make|1965-03-20| birdjoe@example.org|        801-317-7926|815251.0|            7|    1965|\n",
      "|      Rose|  Gregory|           Barrister|1974-10-31|samuel27@example.net|        923-304-9438|673811.0|            2|    1974|\n",
      "|  Nicholas|    Short|  Charity fundraiser|1998-10-03| brian12@example.com|        855.973.7301|538901.0|            4|    1998|\n",
      "|      John|   Hanson|Lecturer, higher ...|2001-04-12|  zweiss@example.org|       (453)740-2558|247223.0|            7|    2001|\n",
      "|     Bryan|   Turner|Public relations ...|1984-01-30|  ssmith@example.com|  426.547.0413x20201|286799.0|            6|    1984|\n",
      "|     Tonya|  Schultz|Contracting civil...|1982-05-07|douglas54@example...|        578-916-7661|664105.0|            4|    1982|\n",
      "|  Patricia| Anderson|        Set designer|1974-09-22|joshua92@example.net|001-765-729-3973x...|439446.0|            2|    1974|\n",
      "+----------+---------+--------------------+----------+--------------------+--------------------+--------+-------------+--------+\n",
      "only showing top 20 rows\n",
      "\n"
     ]
    }
   ],
   "source": [
    "spark.sql(\"select * from emp_temp_view\").show()"
   ]
  },
  {
   "cell_type": "code",
   "execution_count": 13,
   "id": "a7fd9877-fff9-4071-9fd8-8a8503fe3cd5",
   "metadata": {
    "tags": []
   },
   "outputs": [],
   "source": [
    "# Join emp and dept - HINTs\n",
    "\n",
    "emp_final = spark.sql(\"\"\"\n",
    "    select /*+ BROADCAST(d) */\n",
    "    e.* , d.department_name\n",
    "    from emp_view e left outer join dept_view d\n",
    "    on e.department_id = d.department_id\n",
    "\"\"\")"
   ]
  },
  {
   "cell_type": "code",
   "execution_count": 9,
   "id": "4954ee48-2beb-4380-a084-6a2f18a6dcb6",
   "metadata": {
    "tags": []
   },
   "outputs": [
    {
     "name": "stdout",
     "output_type": "stream",
     "text": [
      "+----------+---------+--------------------+----------+--------------------+--------------------+--------+-------------+--------------------+\n",
      "|first_name|last_name|           job_title|       dob|               email|               phone|  salary|department_id|     department_name|\n",
      "+----------+---------+--------------------+----------+--------------------+--------------------+--------+-------------+--------------------+\n",
      "|  Samantha|    Brown|Diagnostic radiog...|1966-06-11| jwatson@example.com|       (428)806-5154|439679.0|            3|Pittman, Hess and...|\n",
      "|    Justin|Castaneda|Human resources o...|1996-11-11|  sdavis@example.org|    001-581-642-9621| 97388.0|            4|Smith, Snyder and...|\n",
      "|      Carl| Peterson|         Proofreader|1984-11-23|andrew20@example.net|   241-871-9102x3835|287728.0|            1|         Bryan-James|\n",
      "| Catherine|     Lane|    Location manager|1966-06-21|elizabethalexande...|   470.866.4415x0739|174151.0|            3|Pittman, Hess and...|\n",
      "|     Aaron|  Delgado|Teacher, secondar...|1972-10-11|uwilliams@example...|   384.336.5759x4831|209013.0|            8|          Parker PLC|\n",
      "|  Michelle|     Hill|Customer service ...|1984-01-15|antoniojoseph@exa...|    368.485.0685x793|764126.0|            8|          Parker PLC|\n",
      "|  Kristina|   Martin|       IT consultant|1964-02-23|autumn05@example.com|       (625)327-0615|563768.0|            1|         Bryan-James|\n",
      "|     Carol|  Nichols|      Phytotherapist|1969-02-14|crawfordsarah@exa...|  422-490-1069x38089|156689.0|           10|      Delgado-Keller|\n",
      "|     Peter|     Hill|      Cytogeneticist|1964-09-23|   xholt@example.org|        935.573.8160|957436.0|            5|          Hardin Inc|\n",
      "|  Benjamin|    Lopez|Agricultural engi...|1966-01-20|  ryan46@example.org| +1-256-376-8069x339|891725.0|            1|         Bryan-James|\n",
      "|     Susan|   Savage|Optician, dispensing|1996-07-27|taylorjoshua@exam...| +1-393-821-5515x816|198396.0|            6|         Sanders LLC|\n",
      "|    Robert|      Cox|Occupational ther...|1993-06-27|anthony00@example...|          8008487748|907659.0|            3|Pittman, Hess and...|\n",
      "|      Evan|    Terry|Local government ...|1982-01-03|srodriguez@exampl...|        220-913-4625|693419.0|            5|          Hardin Inc|\n",
      "|    Justin| Santiago|                Make|1965-03-20| birdjoe@example.org|        801-317-7926|815251.0|            7|         Ward-Gordon|\n",
      "|      Rose|  Gregory|           Barrister|1974-10-31|samuel27@example.net|        923-304-9438|673811.0|            2|Smith, Craig and ...|\n",
      "|  Nicholas|    Short|  Charity fundraiser|1998-10-03| brian12@example.com|        855.973.7301|538901.0|            4|Smith, Snyder and...|\n",
      "|      John|   Hanson|Lecturer, higher ...|2001-04-12|  zweiss@example.org|       (453)740-2558|247223.0|            7|         Ward-Gordon|\n",
      "|     Bryan|   Turner|Public relations ...|1984-01-30|  ssmith@example.com|  426.547.0413x20201|286799.0|            6|         Sanders LLC|\n",
      "|     Tonya|  Schultz|Contracting civil...|1982-05-07|douglas54@example...|        578-916-7661|664105.0|            4|Smith, Snyder and...|\n",
      "|  Patricia| Anderson|        Set designer|1974-09-22|joshua92@example.net|001-765-729-3973x...|439446.0|            2|Smith, Craig and ...|\n",
      "+----------+---------+--------------------+----------+--------------------+--------------------+--------+-------------+--------------------+\n",
      "only showing top 20 rows\n",
      "\n"
     ]
    }
   ],
   "source": [
    "# Show emp data\n",
    "\n",
    "emp_final.show()"
   ]
  },
  {
   "cell_type": "code",
   "execution_count": 14,
   "id": "49a26f84-5631-4c24-814f-a6f28901d31d",
   "metadata": {
    "tags": []
   },
   "outputs": [],
   "source": [
    "# Write the data as Table\n",
    "\n",
    "emp_final.write.format(\"parquet\").saveAsTable(\"emp_final\")"
   ]
  },
  {
   "cell_type": "code",
   "execution_count": 5,
   "id": "4eb18a42-365f-42b3-a7a0-e10859029982",
   "metadata": {
    "tags": []
   },
   "outputs": [],
   "source": [
    "# Read the data from Table\n",
    "\n",
    "emp_new = spark.sql(\"select * from emp_final\")"
   ]
  },
  {
   "cell_type": "code",
   "execution_count": 6,
   "id": "1c990d0e-0993-44c6-8e9a-c204a1fabb3e",
   "metadata": {
    "tags": []
   },
   "outputs": [
    {
     "name": "stdout",
     "output_type": "stream",
     "text": [
      "+----------+---------+--------------------+----------+--------------------+--------------------+--------+-------------+--------------------+\n",
      "|first_name|last_name|           job_title|       dob|               email|               phone|  salary|department_id|     department_name|\n",
      "+----------+---------+--------------------+----------+--------------------+--------------------+--------+-------------+--------------------+\n",
      "|  Samantha|    Brown|Diagnostic radiog...|1966-06-11| jwatson@example.com|       (428)806-5154|439679.0|            3|Pittman, Hess and...|\n",
      "|    Justin|Castaneda|Human resources o...|1996-11-11|  sdavis@example.org|    001-581-642-9621| 97388.0|            4|Smith, Snyder and...|\n",
      "|      Carl| Peterson|         Proofreader|1984-11-23|andrew20@example.net|   241-871-9102x3835|287728.0|            1|         Bryan-James|\n",
      "| Catherine|     Lane|    Location manager|1966-06-21|elizabethalexande...|   470.866.4415x0739|174151.0|            3|Pittman, Hess and...|\n",
      "|     Aaron|  Delgado|Teacher, secondar...|1972-10-11|uwilliams@example...|   384.336.5759x4831|209013.0|            8|          Parker PLC|\n",
      "|  Michelle|     Hill|Customer service ...|1984-01-15|antoniojoseph@exa...|    368.485.0685x793|764126.0|            8|          Parker PLC|\n",
      "|  Kristina|   Martin|       IT consultant|1964-02-23|autumn05@example.com|       (625)327-0615|563768.0|            1|         Bryan-James|\n",
      "|     Carol|  Nichols|      Phytotherapist|1969-02-14|crawfordsarah@exa...|  422-490-1069x38089|156689.0|           10|      Delgado-Keller|\n",
      "|     Peter|     Hill|      Cytogeneticist|1964-09-23|   xholt@example.org|        935.573.8160|957436.0|            5|          Hardin Inc|\n",
      "|  Benjamin|    Lopez|Agricultural engi...|1966-01-20|  ryan46@example.org| +1-256-376-8069x339|891725.0|            1|         Bryan-James|\n",
      "|     Susan|   Savage|Optician, dispensing|1996-07-27|taylorjoshua@exam...| +1-393-821-5515x816|198396.0|            6|         Sanders LLC|\n",
      "|    Robert|      Cox|Occupational ther...|1993-06-27|anthony00@example...|          8008487748|907659.0|            3|Pittman, Hess and...|\n",
      "|      Evan|    Terry|Local government ...|1982-01-03|srodriguez@exampl...|        220-913-4625|693419.0|            5|          Hardin Inc|\n",
      "|    Justin| Santiago|                Make|1965-03-20| birdjoe@example.org|        801-317-7926|815251.0|            7|         Ward-Gordon|\n",
      "|      Rose|  Gregory|           Barrister|1974-10-31|samuel27@example.net|        923-304-9438|673811.0|            2|Smith, Craig and ...|\n",
      "|  Nicholas|    Short|  Charity fundraiser|1998-10-03| brian12@example.com|        855.973.7301|538901.0|            4|Smith, Snyder and...|\n",
      "|      John|   Hanson|Lecturer, higher ...|2001-04-12|  zweiss@example.org|       (453)740-2558|247223.0|            7|         Ward-Gordon|\n",
      "|     Bryan|   Turner|Public relations ...|1984-01-30|  ssmith@example.com|  426.547.0413x20201|286799.0|            6|         Sanders LLC|\n",
      "|     Tonya|  Schultz|Contracting civil...|1982-05-07|douglas54@example...|        578-916-7661|664105.0|            4|Smith, Snyder and...|\n",
      "|  Patricia| Anderson|        Set designer|1974-09-22|joshua92@example.net|001-765-729-3973x...|439446.0|            2|Smith, Craig and ...|\n",
      "+----------+---------+--------------------+----------+--------------------+--------------------+--------+-------------+--------------------+\n",
      "only showing top 20 rows\n",
      "\n"
     ]
    }
   ],
   "source": [
    "emp_new.show()"
   ]
  },
  {
   "cell_type": "code",
   "execution_count": null,
   "id": "1d8d21ad-c3ca-40e5-8f69-0d144f25c2bb",
   "metadata": {},
   "outputs": [],
   "source": [
    "# Persist metadata\n",
    "\n"
   ]
  },
  {
   "cell_type": "code",
   "execution_count": 8,
   "id": "4328da47-4070-47bf-b223-7309d0366f90",
   "metadata": {
    "tags": []
   },
   "outputs": [
    {
     "name": "stdout",
     "output_type": "stream",
     "text": [
      "+--------------------+--------------------+-------+\n",
      "|            col_name|           data_type|comment|\n",
      "+--------------------+--------------------+-------+\n",
      "|          first_name|              string|   null|\n",
      "|           last_name|              string|   null|\n",
      "|           job_title|              string|   null|\n",
      "|                 dob|              string|   null|\n",
      "|               email|              string|   null|\n",
      "|               phone|              string|   null|\n",
      "|              salary|              double|   null|\n",
      "|       department_id|                 int|   null|\n",
      "|     department_name|              string|   null|\n",
      "|                    |                    |       |\n",
      "|# Detailed Table ...|                    |       |\n",
      "|            Database|             default|       |\n",
      "|               Table|           emp_final|       |\n",
      "|               Owner|                root|       |\n",
      "|        Created Time|Sat Jan 06 10:03:...|       |\n",
      "|         Last Access|             UNKNOWN|       |\n",
      "|          Created By|         Spark 3.3.0|       |\n",
      "|                Type|             MANAGED|       |\n",
      "|            Provider|             parquet|       |\n",
      "|          Statistics|      37700526 bytes|       |\n",
      "+--------------------+--------------------+-------+\n",
      "only showing top 20 rows\n",
      "\n"
     ]
    }
   ],
   "source": [
    "# Show details of metadata\n",
    "\n",
    "spark.sql(\"describe extended emp_final\").show()"
   ]
  },
  {
   "cell_type": "code",
   "execution_count": null,
   "id": "b5551a20-897b-4032-be33-1445d75b5078",
   "metadata": {},
   "outputs": [],
   "source": []
  }
 ],
 "metadata": {
  "kernelspec": {
   "display_name": "Python 3 (ipykernel)",
   "language": "python",
   "name": "python3"
  },
  "language_info": {
   "codemirror_mode": {
    "name": "ipython",
    "version": 3
   },
   "file_extension": ".py",
   "mimetype": "text/x-python",
   "name": "python",
   "nbconvert_exporter": "python",
   "pygments_lexer": "ipython3",
   "version": "3.7.10"
  }
 },
 "nbformat": 4,
 "nbformat_minor": 5
}
