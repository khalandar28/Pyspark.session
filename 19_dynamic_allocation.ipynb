{
 "cells": [
  {
   "cell_type": "code",
   "execution_count": 1,
   "id": "0ad98196-2d75-46ba-b5f5-c61ec930fa91",
   "metadata": {
    "tags": []
   },
   "outputs": [
    {
     "data": {
      "text/html": [
       "\n",
       "            <div>\n",
       "                <p><b>SparkSession - in-memory</b></p>\n",
       "                \n",
       "        <div>\n",
       "            <p><b>SparkContext</b></p>\n",
       "\n",
       "            <p><a href=\"http://8a95fd7f28d1:4040\">Spark UI</a></p>\n",
       "\n",
       "            <dl>\n",
       "              <dt>Version</dt>\n",
       "                <dd><code>v3.3.0</code></dd>\n",
       "              <dt>Master</dt>\n",
       "                <dd><code>spark://197e20b418a6:7077</code></dd>\n",
       "              <dt>AppName</dt>\n",
       "                <dd><code>Dynamic Allocation</code></dd>\n",
       "            </dl>\n",
       "        </div>\n",
       "        \n",
       "            </div>\n",
       "        "
      ],
      "text/plain": [
       "<pyspark.sql.session.SparkSession at 0x7f9594d718d0>"
      ]
     },
     "execution_count": 1,
     "metadata": {},
     "output_type": "execute_result"
    }
   ],
   "source": [
    "# Spark Session\n",
    "from pyspark.sql import SparkSession\n",
    "\n",
    "spark = (\n",
    "    SparkSession\n",
    "    .builder\n",
    "    .appName(\"Dynamic Allocation\")\n",
    "    .master(\"spark://197e20b418a6:7077\")\n",
    "    .config(\"spark.executor.cores\", 2)\n",
    "    .config(\"spark.executor.memory\", \"512M\")\n",
    "    .config(\"spark.dynamicAllocation.enabled\", True)\n",
    "    .config(\"spark.dynamicAllocation.minExecutors\", 0)\n",
    "    .config(\"spark.dynamicAllocation.maxExecutors\", 5)\n",
    "    .config(\"spark.dynamicAllocation.initialExecutors\", 1)\n",
    "    .config(\"spark.dynamicAllocation.shuffleTracking.enabled\", True)\n",
    "    .config(\"spark.dynamicAllocation.executorIdleTimeout\", \"60s\")\n",
    "    .config(\"spark.dynamicAllocation.cachedExecutorIdleTimeout\", \"60s\")\n",
    "    .getOrCreate()\n",
    ")\n",
    "\n",
    "spark"
   ]
  },
  {
   "cell_type": "code",
   "execution_count": 2,
   "id": "4bc7236d-fc38-4044-b03a-ac92fdb4811c",
   "metadata": {
    "tags": []
   },
   "outputs": [],
   "source": [
    "# Read Sales data\n",
    "\n",
    "sales_schema = \"transacted_at string, trx_id string, retailer_id string, description string, amount double, city_id string\"\n",
    "\n",
    "sales = spark.read.format(\"csv\").schema(sales_schema).option(\"header\", True).load(\"/data/input/new_sales.csv\")"
   ]
  },
  {
   "cell_type": "code",
   "execution_count": 3,
   "id": "44e4df81-0913-4eb8-9020-c002757586ce",
   "metadata": {
    "tags": []
   },
   "outputs": [],
   "source": [
    "# Read City data\n",
    "\n",
    "city_schema = \"city_id string, city string, state string, state_abv string, country string\"\n",
    "\n",
    "city = spark.read.format(\"csv\").schema(city_schema).option(\"header\", True).load(\"/data/input/cities.csv\")"
   ]
  },
  {
   "cell_type": "code",
   "execution_count": 4,
   "id": "a316651b-9d4d-41a9-9b27-065d3c1b946a",
   "metadata": {
    "tags": []
   },
   "outputs": [],
   "source": [
    "# Join Data\n",
    "\n",
    "df_sales_joined = sales.join(city, on=sales.city_id==city.city_id, how=\"left_outer\")"
   ]
  },
  {
   "cell_type": "code",
   "execution_count": 5,
   "id": "0ca517e0-a17d-4ab6-86d4-2cad3fd9f2bb",
   "metadata": {
    "tags": []
   },
   "outputs": [],
   "source": [
    "df_sales_joined.write.format(\"noop\").mode(\"overwrite\").save()"
   ]
  },
  {
   "cell_type": "code",
   "execution_count": null,
   "id": "abbaa89e-0d4a-4def-b17b-244ed424792e",
   "metadata": {},
   "outputs": [],
   "source": [
    "# Difference between Scale UP in Databricks and Dynamic Allocation"
   ]
  },
  {
   "cell_type": "code",
   "execution_count": null,
   "id": "cc4bf5c6-35a2-4f87-b69b-b50f9dba3c21",
   "metadata": {},
   "outputs": [],
   "source": []
  }
 ],
 "metadata": {
  "kernelspec": {
   "display_name": "Python 3 (ipykernel)",
   "language": "python",
   "name": "python3"
  },
  "language_info": {
   "codemirror_mode": {
    "name": "ipython",
    "version": 3
   },
   "file_extension": ".py",
   "mimetype": "text/x-python",
   "name": "python",
   "nbconvert_exporter": "python",
   "pygments_lexer": "ipython3",
   "version": "3.7.10"
  }
 },
 "nbformat": 4,
 "nbformat_minor": 5
}
