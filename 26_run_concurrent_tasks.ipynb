{
 "cells": [
  {
   "cell_type": "code",
   "execution_count": 1,
   "id": "4cc14a60-6f60-495a-92c8-e81f057388a7",
   "metadata": {
    "tags": []
   },
   "outputs": [
    {
     "data": {
      "text/html": [
       "\n",
       "            <div>\n",
       "                <p><b>SparkSession - in-memory</b></p>\n",
       "                \n",
       "        <div>\n",
       "            <p><b>SparkContext</b></p>\n",
       "\n",
       "            <p><a href=\"http://8a95fd7f28d1:4040\">Spark UI</a></p>\n",
       "\n",
       "            <dl>\n",
       "              <dt>Version</dt>\n",
       "                <dd><code>v3.3.0</code></dd>\n",
       "              <dt>Master</dt>\n",
       "                <dd><code>spark://197e20b418a6:7077</code></dd>\n",
       "              <dt>AppName</dt>\n",
       "                <dd><code>Run Concurrent/Parallel task in Spark</code></dd>\n",
       "            </dl>\n",
       "        </div>\n",
       "        \n",
       "            </div>\n",
       "        "
      ],
      "text/plain": [
       "<pyspark.sql.session.SparkSession at 0x7fa9954ae890>"
      ]
     },
     "execution_count": 1,
     "metadata": {},
     "output_type": "execute_result"
    }
   ],
   "source": [
    "# Spark Session\n",
    "from pyspark.sql import SparkSession\n",
    "\n",
    "spark = (\n",
    "    SparkSession\n",
    "    .builder\n",
    "    .appName(\"Run Concurrent/Parallel task in Spark\")\n",
    "    .master(\"spark://197e20b418a6:7077\")\n",
    "    .config(\"spark.cores.max\", 8)\n",
    "    .config(\"spark.executor.cores\", 4)\n",
    "    .config(\"spark.executor.memory\", \"512M\")\n",
    "    .getOrCreate()\n",
    ")\n",
    "\n",
    "spark"
   ]
  },
  {
   "cell_type": "code",
   "execution_count": 2,
   "id": "37a4d1c6-843a-4a3d-8674-1eb6b6f34ff6",
   "metadata": {
    "tags": []
   },
   "outputs": [],
   "source": [
    "def extract_country_data(_country: str):\n",
    "    try:\n",
    "        # Read Cities data\n",
    "        df_cities = (\n",
    "            spark\n",
    "            .read\n",
    "            .format(\"csv\")\n",
    "            .option(\"header\", True)\n",
    "            .load(\"/data/input/cities.csv\")\n",
    "        )\n",
    "\n",
    "        # Fiter data\n",
    "        df_final = df_cities.where(f\"lower(country) = lower('{_country}')\")\n",
    "\n",
    "        # Write data\n",
    "        (\n",
    "            df_final\n",
    "            .coalesce(1)\n",
    "            .write\n",
    "            .format(\"csv\")\n",
    "            .mode(\"overwrite\")\n",
    "            .option(\"header\", True)\n",
    "            .save(f\"/data/output/countries/{_country.lower()}/\")\n",
    "        )\n",
    "    \n",
    "        return f\"Data Extracted for {_country} at: [/data/output/countries/{_country.lower()}/]\"\n",
    "    except Exception as e:\n",
    "        raise Exception(e)"
   ]
  },
  {
   "cell_type": "code",
   "execution_count": 3,
   "id": "2110abd3-ffa0-4e3c-9992-e2a634663a22",
   "metadata": {
    "tags": []
   },
   "outputs": [
    {
     "name": "stdout",
     "output_type": "stream",
     "text": [
      "Data Extracted for India at: [/data/output/countries/india/]\n",
      "Data Extracted for Iran at: [/data/output/countries/iran/]\n",
      "Data Extracted for Ghana at: [/data/output/countries/ghana/]\n",
      "Data Extracted for Australia at: [/data/output/countries/australia/]\n",
      "total time = 21.348790407180786 seconds\n"
     ]
    }
   ],
   "source": [
    "# Use For loops to execute the jobs\n",
    "import time\n",
    "\n",
    "# Set start time\n",
    "start_time = time.time()\n",
    "\n",
    "# Run all extracts through for-loop\n",
    "_countries = ['India', 'Iran', 'Ghana', 'Australia']\n",
    "\n",
    "for _country in _countries:\n",
    "    print(extract_country_data(_country))\n",
    "\n",
    "# End time\n",
    "end_time = time.time()\n",
    "\n",
    "# Total time taken\n",
    "print(f\"total time = {end_time - start_time} seconds\")"
   ]
  },
  {
   "cell_type": "code",
   "execution_count": 4,
   "id": "9eacdf70-76a4-4b5d-ae06-d67d6e321b05",
   "metadata": {
    "tags": []
   },
   "outputs": [
    {
     "name": "stdout",
     "output_type": "stream",
     "text": [
      "Data Extracted for Iran at: [/data/output/countries/iran/]\n",
      "Data Extracted for India at: [/data/output/countries/india/]\n",
      "Data Extracted for Ghana at: [/data/output/countries/ghana/]\n",
      "Data Extracted for Australia at: [/data/output/countries/australia/]\n",
      "total time = 5.513016700744629 seconds\n"
     ]
    }
   ],
   "source": [
    "# Use threads to run the queries in concurrently/parallely\n",
    "import time\n",
    "import concurrent.futures\n",
    "\n",
    "# Set start time\n",
    "start_time = time.time()\n",
    "\n",
    "_countries = ['India', 'Iran', 'Ghana', 'Australia']\n",
    "\n",
    "with concurrent.futures.ThreadPoolExecutor(max_workers=4) as executor:\n",
    "    results = {executor.submit(extract_country_data, _country) for _country in _countries}\n",
    "    \n",
    "    for result in results:\n",
    "        print(result.result())\n",
    "        \n",
    "# End time\n",
    "end_time = time.time()\n",
    "\n",
    "# Total time taken\n",
    "print(f\"total time = {end_time - start_time} seconds\")"
   ]
  },
  {
   "cell_type": "code",
   "execution_count": null,
   "id": "def3fa8f-0274-4281-a02b-c84b386475d6",
   "metadata": {},
   "outputs": [],
   "source": []
  }
 ],
 "metadata": {
  "kernelspec": {
   "display_name": "Python 3 (ipykernel)",
   "language": "python",
   "name": "python3"
  },
  "language_info": {
   "codemirror_mode": {
    "name": "ipython",
    "version": 3
   },
   "file_extension": ".py",
   "mimetype": "text/x-python",
   "name": "python",
   "nbconvert_exporter": "python",
   "pygments_lexer": "ipython3",
   "version": "3.7.10"
  }
 },
 "nbformat": 4,
 "nbformat_minor": 5
}
